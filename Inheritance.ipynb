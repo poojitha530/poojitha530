{
 "cells": [
  {
   "cell_type": "markdown",
   "id": "95d5c4bd",
   "metadata": {},
   "source": [
    "### Inheritance"
   ]
  },
  {
   "cell_type": "markdown",
   "id": "0719dcad",
   "metadata": {},
   "source": [
    "There are multiple inheritances in oops:\n",
    "                            1.Single Inheritance\n",
    "                            2.Multi-Level Inheritance\n",
    "                            3.Hirerachial Inheritance\n",
    "                            4.Hybrid Inheritance\n",
    "                    \n",
    "# 1.single:\n",
    "       \n",
    "       Inheriting single class into the child class.\n",
    "       \n",
    "#### Example:\n",
    "             class mom_asserts(mama):\n",
    "     \n",
    "     def gold(self):\n",
    "        print(\"10 kgs\")\n",
    "    def silver(self):\n",
    "        print(\"50 kgs\")\n",
    "        \n",
    "# 2.Multi-Level:\n",
    "        \n",
    "        Inheriting parent1 class into parent2 class and parent 2 class into child class\n",
    "Example:\n",
    "    \n",
    "    class father_asserts(r_loan):\n",
    "    s(father_asserts)\n",
    "\n",
    "Now the functions present in \"r_loan\" class will be inherited into\"s\" class along with the \"father_asserts\"class function\n",
    "But where as the class variable  cant be shared to \"s\" for that we need to declare \"init\" inside the class specifically. \n",
    "\n",
    "#### example:\n",
    "def __init__ (self,gold,silver,diamonds):\n",
    "        r_loan. __init__(self)\n",
    "        self.father_gold=gold\n",
    "        self.father_silver=silver\n",
    "\n",
    "# Multiple inheritance:\n",
    "             \n",
    "              Inheriting multiple classes into a single class.\n",
    "   \n",
    "#### example:\n",
    "\n",
    "    class s(mom_asserts,father_asserts,gifts):\n",
    "    \n",
    " In the above class \"S\" all the functions present in mom_asserts,father_asserts,gifts will be automatically inherited to class \"s\".\n",
    " when coming to class variables \"mom_asserts,father_asserts,gifts\" needs to be self declared inside the \"s\" class \"init\"\n",
    " \n",
    "#### Example:\n",
    "      class s(mom_asserts,father_asserts,gifts):\n",
    "        def __init__(self,gold,silver,diamonds):\n",
    "            def bike(self):\n",
    "                print(\"pulsar\")\n",
    "            \n",
    " "
   ]
  },
  {
   "cell_type": "code",
   "execution_count": null,
   "id": "9a80e45c",
   "metadata": {},
   "outputs": [],
   "source": []
  },
  {
   "cell_type": "markdown",
   "id": "a7fb2c6f",
   "metadata": {},
   "source": [
    "###  Single Inheritance"
   ]
  },
  {
   "cell_type": "code",
   "execution_count": 2,
   "id": "74868fe7",
   "metadata": {},
   "outputs": [],
   "source": [
    "class dad_asserts:\n",
    "    def land(self):\n",
    "        print(\"coconut\")"
   ]
  },
  {
   "cell_type": "code",
   "execution_count": 30,
   "id": "62425fb3",
   "metadata": {},
   "outputs": [],
   "source": [
    "ob=dad_asserts()"
   ]
  },
  {
   "cell_type": "code",
   "execution_count": 54,
   "id": "53b04b87",
   "metadata": {},
   "outputs": [],
   "source": [
    "ob=dad_asserts()"
   ]
  },
  {
   "cell_type": "code",
   "execution_count": null,
   "id": "c1e375d6",
   "metadata": {},
   "outputs": [],
   "source": []
  },
  {
   "cell_type": "markdown",
   "id": "de0c0df0",
   "metadata": {},
   "source": [
    "### Multiple Inheritance"
   ]
  },
  {
   "cell_type": "code",
   "execution_count": null,
   "id": "dd917682",
   "metadata": {},
   "outputs": [],
   "source": []
  },
  {
   "cell_type": "code",
   "execution_count": 95,
   "id": "6b49af2b",
   "metadata": {},
   "outputs": [],
   "source": [
    "class mom_asserts(mama):\n",
    "     \n",
    "    def gold(self):\n",
    "        print(\"10 kgs\")\n",
    "    def silver(self):\n",
    "        print(\"50 kgs\")\n",
    "    "
   ]
  },
  {
   "cell_type": "code",
   "execution_count": 96,
   "id": "baab9925",
   "metadata": {},
   "outputs": [
    {
     "data": {
      "text/plain": [
       "__main__.mom_asserts"
      ]
     },
     "execution_count": 96,
     "metadata": {},
     "output_type": "execute_result"
    }
   ],
   "source": [
    "mom_asserts"
   ]
  },
  {
   "cell_type": "code",
   "execution_count": 168,
   "id": "e26cdce0",
   "metadata": {},
   "outputs": [],
   "source": [
    "class father_asserts(r_loan):#crates a class as father_asserts\n",
    "    def __init__ (self,gold,silver,diamonds):\n",
    "        r_loan. __init__(self)\n",
    "        self.father_gold=gold\n",
    "        self.father_silver=silver\n",
    "        print(\"two {}\".format(diamonds))\n",
    "    def land(self):\n",
    "        print(\"coconut farm\")\n",
    "        print(\"mango farm\")\n",
    "    "
   ]
  },
  {
   "cell_type": "code",
   "execution_count": 169,
   "id": "34aca595",
   "metadata": {},
   "outputs": [],
   "source": [
    "class s(mom_asserts,father_asserts,gifts):\n",
    "        def __init__(self,gold,silver,diamonds):\n",
    "            def bike(self):\n",
    "                print(\"pulsar\")\n",
    "        "
   ]
  },
  {
   "cell_type": "code",
   "execution_count": 166,
   "id": "8a030a3c",
   "metadata": {},
   "outputs": [
    {
     "name": "stdout",
     "output_type": "stream",
     "text": [
      "saree\n"
     ]
    }
   ],
   "source": [
    "asserts=s(100,100,2)\n",
    "asserts.marriage_gift()"
   ]
  },
  {
   "cell_type": "code",
   "execution_count": 162,
   "id": "21884771",
   "metadata": {},
   "outputs": [
    {
     "name": "stdout",
     "output_type": "stream",
     "text": [
      "50 kgs\n",
      "saree\n"
     ]
    }
   ],
   "source": [
    "asserts.silver()\n",
    "asserts.marriage_gift()"
   ]
  },
  {
   "cell_type": "code",
   "execution_count": 170,
   "id": "6c2d014d",
   "metadata": {},
   "outputs": [
    {
     "name": "stdout",
     "output_type": "stream",
     "text": [
      "return 2 cr\n"
     ]
    }
   ],
   "source": [
    "asserts.mama_loan()"
   ]
  },
  {
   "cell_type": "code",
   "execution_count": null,
   "id": "46ca863f",
   "metadata": {},
   "outputs": [],
   "source": []
  },
  {
   "cell_type": "code",
   "execution_count": 139,
   "id": "d97422da",
   "metadata": {},
   "outputs": [],
   "source": [
    "class s_loan:\n",
    "    def __init__(self):\n",
    "        print(\"1cr loan\")\n",
    "    "
   ]
  },
  {
   "cell_type": "code",
   "execution_count": 140,
   "id": "281de8fe",
   "metadata": {},
   "outputs": [
    {
     "name": "stdout",
     "output_type": "stream",
     "text": [
      "1cr loan\n",
      "two 5\n"
     ]
    }
   ],
   "source": [
    "\n",
    "asserts=s(100,100,5)"
   ]
  },
  {
   "cell_type": "code",
   "execution_count": 133,
   "id": "e44407e9",
   "metadata": {},
   "outputs": [
    {
     "name": "stdout",
     "output_type": "stream",
     "text": [
      "1cr loan\n",
      "two 2\n"
     ]
    }
   ],
   "source": [
    "asserts=s(100,100,2)\n"
   ]
  },
  {
   "cell_type": "code",
   "execution_count": 134,
   "id": "bce6b202",
   "metadata": {},
   "outputs": [],
   "source": [
    "class mama:\n",
    "    def mama_loan(self):\n",
    "        print(\"return 2 cr\")"
   ]
  },
  {
   "cell_type": "code",
   "execution_count": 135,
   "id": "d610cdd5",
   "metadata": {},
   "outputs": [
    {
     "name": "stdout",
     "output_type": "stream",
     "text": [
      "1cr loan\n",
      "two 2\n",
      "return 2 cr\n"
     ]
    }
   ],
   "source": [
    "asserts=s(100,100,2)\n",
    "asserts.mama_loan()\n"
   ]
  },
  {
   "cell_type": "code",
   "execution_count": 136,
   "id": "60731f73",
   "metadata": {},
   "outputs": [
    {
     "name": "stdout",
     "output_type": "stream",
     "text": [
      "return 2 cr\n"
     ]
    }
   ],
   "source": [
    "asserts.mama_loan()"
   ]
  },
  {
   "cell_type": "code",
   "execution_count": 137,
   "id": "3e816451",
   "metadata": {},
   "outputs": [],
   "source": [
    "class gifts:\n",
    "    def marriage_gift(self):\n",
    "        print(\"saree\")"
   ]
  },
  {
   "cell_type": "code",
   "execution_count": 138,
   "id": "0710b3b6",
   "metadata": {},
   "outputs": [
    {
     "name": "stdout",
     "output_type": "stream",
     "text": [
      "1cr loan\n",
      "two 2\n",
      "saree\n"
     ]
    }
   ],
   "source": [
    "asserts=s(100,100,2)\n",
    "asserts.marriage_gift()"
   ]
  },
  {
   "cell_type": "markdown",
   "id": "24344941",
   "metadata": {},
   "source": [
    "### Inheritance"
   ]
  },
  {
   "cell_type": "markdown",
   "id": "8e96b872",
   "metadata": {},
   "source": []
  }
 ],
 "metadata": {
  "kernelspec": {
   "display_name": "Python 3 (ipykernel)",
   "language": "python",
   "name": "python3"
  },
  "language_info": {
   "codemirror_mode": {
    "name": "ipython",
    "version": 3
   },
   "file_extension": ".py",
   "mimetype": "text/x-python",
   "name": "python",
   "nbconvert_exporter": "python",
   "pygments_lexer": "ipython3",
   "version": "3.11.5"
  }
 },
 "nbformat": 4,
 "nbformat_minor": 5
}
